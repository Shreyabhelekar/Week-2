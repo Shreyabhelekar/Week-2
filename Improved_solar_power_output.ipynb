{
 "cells": [
  {
   "cell_type": "code",
   "execution_count": 1,
   "id": "cf50946a-f474-4a4a-805e-fe4a43a6afcc",
   "metadata": {},
   "outputs": [],
   "source": [
    "import pandas as pd\n",
    "import numpy as np\n",
    "from sklearn.model_selection import train_test_split\n",
    "from sklearn.preprocessing import StandardScaler\n",
    "from sklearn.linear_model import LinearRegression\n",
    "from sklearn.metrics import mean_squared_error, r2_score\n",
    "import joblib "
   ]
  },
  {
   "cell_type": "code",
   "execution_count": 2,
   "id": "ac80c7d5-1fb8-4279-a901-8bfd47154fdc",
   "metadata": {},
   "outputs": [],
   "source": [
    "data = pd.read_csv('solar power.csv')"
   ]
  },
  {
   "cell_type": "code",
   "execution_count": 3,
   "id": "05352ee2-802a-420c-895a-8978e25f828b",
   "metadata": {},
   "outputs": [
    {
     "data": {
      "text/html": [
       "<div>\n",
       "<style scoped>\n",
       "    .dataframe tbody tr th:only-of-type {\n",
       "        vertical-align: middle;\n",
       "    }\n",
       "\n",
       "    .dataframe tbody tr th {\n",
       "        vertical-align: top;\n",
       "    }\n",
       "\n",
       "    .dataframe thead th {\n",
       "        text-align: right;\n",
       "    }\n",
       "</style>\n",
       "<table border=\"1\" class=\"dataframe\">\n",
       "  <thead>\n",
       "    <tr style=\"text-align: right;\">\n",
       "      <th></th>\n",
       "      <th>temperature_2_m_above_gnd</th>\n",
       "      <th>relative_humidity_2_m_above_gnd</th>\n",
       "      <th>mean_sea_level_pressure_MSL</th>\n",
       "      <th>total_precipitation_sfc</th>\n",
       "      <th>snowfall_amount_sfc</th>\n",
       "      <th>total_cloud_cover_sfc</th>\n",
       "      <th>high_cloud_cover_high_cld_lay</th>\n",
       "      <th>medium_cloud_cover_mid_cld_lay</th>\n",
       "      <th>low_cloud_cover_low_cld_lay</th>\n",
       "      <th>shortwave_radiation_backwards_sfc</th>\n",
       "      <th>...</th>\n",
       "      <th>wind_direction_10_m_above_gnd</th>\n",
       "      <th>wind_speed_80_m_above_gnd</th>\n",
       "      <th>wind_direction_80_m_above_gnd</th>\n",
       "      <th>wind_speed_900_mb</th>\n",
       "      <th>wind_direction_900_mb</th>\n",
       "      <th>wind_gust_10_m_above_gnd</th>\n",
       "      <th>angle_of_incidence</th>\n",
       "      <th>zenith</th>\n",
       "      <th>azimuth</th>\n",
       "      <th>generated_power_kw</th>\n",
       "    </tr>\n",
       "  </thead>\n",
       "  <tbody>\n",
       "    <tr>\n",
       "      <th>0</th>\n",
       "      <td>2.17</td>\n",
       "      <td>31</td>\n",
       "      <td>1035.0</td>\n",
       "      <td>0.0</td>\n",
       "      <td>0.0</td>\n",
       "      <td>0.0</td>\n",
       "      <td>0</td>\n",
       "      <td>0</td>\n",
       "      <td>0</td>\n",
       "      <td>0.00</td>\n",
       "      <td>...</td>\n",
       "      <td>312.71</td>\n",
       "      <td>9.36</td>\n",
       "      <td>22.62</td>\n",
       "      <td>6.62</td>\n",
       "      <td>337.62</td>\n",
       "      <td>24.48</td>\n",
       "      <td>58.753108</td>\n",
       "      <td>83.237322</td>\n",
       "      <td>128.33543</td>\n",
       "      <td>454.10095</td>\n",
       "    </tr>\n",
       "    <tr>\n",
       "      <th>1</th>\n",
       "      <td>2.31</td>\n",
       "      <td>27</td>\n",
       "      <td>1035.1</td>\n",
       "      <td>0.0</td>\n",
       "      <td>0.0</td>\n",
       "      <td>0.0</td>\n",
       "      <td>0</td>\n",
       "      <td>0</td>\n",
       "      <td>0</td>\n",
       "      <td>1.78</td>\n",
       "      <td>...</td>\n",
       "      <td>294.78</td>\n",
       "      <td>5.99</td>\n",
       "      <td>32.74</td>\n",
       "      <td>4.61</td>\n",
       "      <td>321.34</td>\n",
       "      <td>21.96</td>\n",
       "      <td>45.408585</td>\n",
       "      <td>75.143041</td>\n",
       "      <td>139.65530</td>\n",
       "      <td>1411.99940</td>\n",
       "    </tr>\n",
       "    <tr>\n",
       "      <th>2</th>\n",
       "      <td>3.65</td>\n",
       "      <td>33</td>\n",
       "      <td>1035.4</td>\n",
       "      <td>0.0</td>\n",
       "      <td>0.0</td>\n",
       "      <td>0.0</td>\n",
       "      <td>0</td>\n",
       "      <td>0</td>\n",
       "      <td>0</td>\n",
       "      <td>108.58</td>\n",
       "      <td>...</td>\n",
       "      <td>270.00</td>\n",
       "      <td>3.89</td>\n",
       "      <td>56.31</td>\n",
       "      <td>3.76</td>\n",
       "      <td>286.70</td>\n",
       "      <td>14.04</td>\n",
       "      <td>32.848282</td>\n",
       "      <td>68.820648</td>\n",
       "      <td>152.53769</td>\n",
       "      <td>2214.84930</td>\n",
       "    </tr>\n",
       "    <tr>\n",
       "      <th>3</th>\n",
       "      <td>5.82</td>\n",
       "      <td>30</td>\n",
       "      <td>1035.4</td>\n",
       "      <td>0.0</td>\n",
       "      <td>0.0</td>\n",
       "      <td>0.0</td>\n",
       "      <td>0</td>\n",
       "      <td>0</td>\n",
       "      <td>0</td>\n",
       "      <td>258.10</td>\n",
       "      <td>...</td>\n",
       "      <td>323.13</td>\n",
       "      <td>3.55</td>\n",
       "      <td>23.96</td>\n",
       "      <td>3.08</td>\n",
       "      <td>339.44</td>\n",
       "      <td>19.80</td>\n",
       "      <td>22.699288</td>\n",
       "      <td>64.883536</td>\n",
       "      <td>166.90159</td>\n",
       "      <td>2527.60920</td>\n",
       "    </tr>\n",
       "    <tr>\n",
       "      <th>4</th>\n",
       "      <td>7.73</td>\n",
       "      <td>27</td>\n",
       "      <td>1034.4</td>\n",
       "      <td>0.0</td>\n",
       "      <td>0.0</td>\n",
       "      <td>0.0</td>\n",
       "      <td>0</td>\n",
       "      <td>0</td>\n",
       "      <td>0</td>\n",
       "      <td>375.58</td>\n",
       "      <td>...</td>\n",
       "      <td>10.01</td>\n",
       "      <td>6.76</td>\n",
       "      <td>25.20</td>\n",
       "      <td>6.62</td>\n",
       "      <td>22.38</td>\n",
       "      <td>16.56</td>\n",
       "      <td>19.199908</td>\n",
       "      <td>63.795208</td>\n",
       "      <td>182.13526</td>\n",
       "      <td>2640.20340</td>\n",
       "    </tr>\n",
       "  </tbody>\n",
       "</table>\n",
       "<p>5 rows × 21 columns</p>\n",
       "</div>"
      ],
      "text/plain": [
       "   temperature_2_m_above_gnd  relative_humidity_2_m_above_gnd  \\\n",
       "0                       2.17                               31   \n",
       "1                       2.31                               27   \n",
       "2                       3.65                               33   \n",
       "3                       5.82                               30   \n",
       "4                       7.73                               27   \n",
       "\n",
       "   mean_sea_level_pressure_MSL  total_precipitation_sfc  snowfall_amount_sfc  \\\n",
       "0                       1035.0                      0.0                  0.0   \n",
       "1                       1035.1                      0.0                  0.0   \n",
       "2                       1035.4                      0.0                  0.0   \n",
       "3                       1035.4                      0.0                  0.0   \n",
       "4                       1034.4                      0.0                  0.0   \n",
       "\n",
       "   total_cloud_cover_sfc  high_cloud_cover_high_cld_lay  \\\n",
       "0                    0.0                              0   \n",
       "1                    0.0                              0   \n",
       "2                    0.0                              0   \n",
       "3                    0.0                              0   \n",
       "4                    0.0                              0   \n",
       "\n",
       "   medium_cloud_cover_mid_cld_lay  low_cloud_cover_low_cld_lay  \\\n",
       "0                               0                            0   \n",
       "1                               0                            0   \n",
       "2                               0                            0   \n",
       "3                               0                            0   \n",
       "4                               0                            0   \n",
       "\n",
       "   shortwave_radiation_backwards_sfc  ...  wind_direction_10_m_above_gnd  \\\n",
       "0                               0.00  ...                         312.71   \n",
       "1                               1.78  ...                         294.78   \n",
       "2                             108.58  ...                         270.00   \n",
       "3                             258.10  ...                         323.13   \n",
       "4                             375.58  ...                          10.01   \n",
       "\n",
       "   wind_speed_80_m_above_gnd  wind_direction_80_m_above_gnd  \\\n",
       "0                       9.36                          22.62   \n",
       "1                       5.99                          32.74   \n",
       "2                       3.89                          56.31   \n",
       "3                       3.55                          23.96   \n",
       "4                       6.76                          25.20   \n",
       "\n",
       "   wind_speed_900_mb  wind_direction_900_mb  wind_gust_10_m_above_gnd  \\\n",
       "0               6.62                 337.62                     24.48   \n",
       "1               4.61                 321.34                     21.96   \n",
       "2               3.76                 286.70                     14.04   \n",
       "3               3.08                 339.44                     19.80   \n",
       "4               6.62                  22.38                     16.56   \n",
       "\n",
       "   angle_of_incidence     zenith    azimuth  generated_power_kw  \n",
       "0           58.753108  83.237322  128.33543           454.10095  \n",
       "1           45.408585  75.143041  139.65530          1411.99940  \n",
       "2           32.848282  68.820648  152.53769          2214.84930  \n",
       "3           22.699288  64.883536  166.90159          2527.60920  \n",
       "4           19.199908  63.795208  182.13526          2640.20340  \n",
       "\n",
       "[5 rows x 21 columns]"
      ]
     },
     "execution_count": 3,
     "metadata": {},
     "output_type": "execute_result"
    }
   ],
   "source": [
    "data.head()"
   ]
  },
  {
   "cell_type": "code",
   "execution_count": 4,
   "id": "a6c18331-3456-4f02-9397-471e7cbabd6d",
   "metadata": {},
   "outputs": [
    {
     "data": {
      "text/plain": [
       "temperature_2_m_above_gnd            0\n",
       "relative_humidity_2_m_above_gnd      0\n",
       "mean_sea_level_pressure_MSL          0\n",
       "total_precipitation_sfc              0\n",
       "snowfall_amount_sfc                  0\n",
       "total_cloud_cover_sfc                0\n",
       "high_cloud_cover_high_cld_lay        0\n",
       "medium_cloud_cover_mid_cld_lay       0\n",
       "low_cloud_cover_low_cld_lay          0\n",
       "shortwave_radiation_backwards_sfc    0\n",
       "wind_speed_10_m_above_gnd            0\n",
       "wind_direction_10_m_above_gnd        0\n",
       "wind_speed_80_m_above_gnd            0\n",
       "wind_direction_80_m_above_gnd        0\n",
       "wind_speed_900_mb                    0\n",
       "wind_direction_900_mb                0\n",
       "wind_gust_10_m_above_gnd             0\n",
       "angle_of_incidence                   0\n",
       "zenith                               0\n",
       "azimuth                              0\n",
       "generated_power_kw                   0\n",
       "dtype: int64"
      ]
     },
     "execution_count": 4,
     "metadata": {},
     "output_type": "execute_result"
    }
   ],
   "source": [
    "data.isnull().sum()"
   ]
  },
  {
   "cell_type": "code",
   "execution_count": 5,
   "id": "342bbe88-995b-4010-9b36-d034dff136d6",
   "metadata": {},
   "outputs": [],
   "source": [
    "X = data.drop(columns=['generated_power_kw'])\n",
    "y = data['generated_power_kw']"
   ]
  },
  {
   "cell_type": "code",
   "execution_count": 6,
   "id": "09786a66-7c04-41d5-ba31-12facebd4461",
   "metadata": {},
   "outputs": [],
   "source": [
    "scaler = StandardScaler()\n",
    "X_scaled = scaler.fit_transform(X)"
   ]
  },
  {
   "cell_type": "code",
   "execution_count": 7,
   "id": "961dae09-a636-41a9-a2ca-866b3759602f",
   "metadata": {},
   "outputs": [],
   "source": [
    "X_train, X_test, y_train, y_test = train_test_split(X_scaled, y, test_size=0.2, random_state=42)"
   ]
  },
  {
   "cell_type": "code",
   "execution_count": 8,
   "id": "92d6e45e-a1d5-4a9b-a33c-dc48d53dc38a",
   "metadata": {},
   "outputs": [
    {
     "data": {
      "text/html": [
       "<style>#sk-container-id-1 {color: black;background-color: white;}#sk-container-id-1 pre{padding: 0;}#sk-container-id-1 div.sk-toggleable {background-color: white;}#sk-container-id-1 label.sk-toggleable__label {cursor: pointer;display: block;width: 100%;margin-bottom: 0;padding: 0.3em;box-sizing: border-box;text-align: center;}#sk-container-id-1 label.sk-toggleable__label-arrow:before {content: \"▸\";float: left;margin-right: 0.25em;color: #696969;}#sk-container-id-1 label.sk-toggleable__label-arrow:hover:before {color: black;}#sk-container-id-1 div.sk-estimator:hover label.sk-toggleable__label-arrow:before {color: black;}#sk-container-id-1 div.sk-toggleable__content {max-height: 0;max-width: 0;overflow: hidden;text-align: left;background-color: #f0f8ff;}#sk-container-id-1 div.sk-toggleable__content pre {margin: 0.2em;color: black;border-radius: 0.25em;background-color: #f0f8ff;}#sk-container-id-1 input.sk-toggleable__control:checked~div.sk-toggleable__content {max-height: 200px;max-width: 100%;overflow: auto;}#sk-container-id-1 input.sk-toggleable__control:checked~label.sk-toggleable__label-arrow:before {content: \"▾\";}#sk-container-id-1 div.sk-estimator input.sk-toggleable__control:checked~label.sk-toggleable__label {background-color: #d4ebff;}#sk-container-id-1 div.sk-label input.sk-toggleable__control:checked~label.sk-toggleable__label {background-color: #d4ebff;}#sk-container-id-1 input.sk-hidden--visually {border: 0;clip: rect(1px 1px 1px 1px);clip: rect(1px, 1px, 1px, 1px);height: 1px;margin: -1px;overflow: hidden;padding: 0;position: absolute;width: 1px;}#sk-container-id-1 div.sk-estimator {font-family: monospace;background-color: #f0f8ff;border: 1px dotted black;border-radius: 0.25em;box-sizing: border-box;margin-bottom: 0.5em;}#sk-container-id-1 div.sk-estimator:hover {background-color: #d4ebff;}#sk-container-id-1 div.sk-parallel-item::after {content: \"\";width: 100%;border-bottom: 1px solid gray;flex-grow: 1;}#sk-container-id-1 div.sk-label:hover label.sk-toggleable__label {background-color: #d4ebff;}#sk-container-id-1 div.sk-serial::before {content: \"\";position: absolute;border-left: 1px solid gray;box-sizing: border-box;top: 0;bottom: 0;left: 50%;z-index: 0;}#sk-container-id-1 div.sk-serial {display: flex;flex-direction: column;align-items: center;background-color: white;padding-right: 0.2em;padding-left: 0.2em;position: relative;}#sk-container-id-1 div.sk-item {position: relative;z-index: 1;}#sk-container-id-1 div.sk-parallel {display: flex;align-items: stretch;justify-content: center;background-color: white;position: relative;}#sk-container-id-1 div.sk-item::before, #sk-container-id-1 div.sk-parallel-item::before {content: \"\";position: absolute;border-left: 1px solid gray;box-sizing: border-box;top: 0;bottom: 0;left: 50%;z-index: -1;}#sk-container-id-1 div.sk-parallel-item {display: flex;flex-direction: column;z-index: 1;position: relative;background-color: white;}#sk-container-id-1 div.sk-parallel-item:first-child::after {align-self: flex-end;width: 50%;}#sk-container-id-1 div.sk-parallel-item:last-child::after {align-self: flex-start;width: 50%;}#sk-container-id-1 div.sk-parallel-item:only-child::after {width: 0;}#sk-container-id-1 div.sk-dashed-wrapped {border: 1px dashed gray;margin: 0 0.4em 0.5em 0.4em;box-sizing: border-box;padding-bottom: 0.4em;background-color: white;}#sk-container-id-1 div.sk-label label {font-family: monospace;font-weight: bold;display: inline-block;line-height: 1.2em;}#sk-container-id-1 div.sk-label-container {text-align: center;}#sk-container-id-1 div.sk-container {/* jupyter's `normalize.less` sets `[hidden] { display: none; }` but bootstrap.min.css set `[hidden] { display: none !important; }` so we also need the `!important` here to be able to override the default hidden behavior on the sphinx rendered scikit-learn.org. See: https://github.com/scikit-learn/scikit-learn/issues/21755 */display: inline-block !important;position: relative;}#sk-container-id-1 div.sk-text-repr-fallback {display: none;}</style><div id=\"sk-container-id-1\" class=\"sk-top-container\"><div class=\"sk-text-repr-fallback\"><pre>LinearRegression()</pre><b>In a Jupyter environment, please rerun this cell to show the HTML representation or trust the notebook. <br />On GitHub, the HTML representation is unable to render, please try loading this page with nbviewer.org.</b></div><div class=\"sk-container\" hidden><div class=\"sk-item\"><div class=\"sk-estimator sk-toggleable\"><input class=\"sk-toggleable__control sk-hidden--visually\" id=\"sk-estimator-id-1\" type=\"checkbox\" checked><label for=\"sk-estimator-id-1\" class=\"sk-toggleable__label sk-toggleable__label-arrow\">LinearRegression</label><div class=\"sk-toggleable__content\"><pre>LinearRegression()</pre></div></div></div></div></div>"
      ],
      "text/plain": [
       "LinearRegression()"
      ]
     },
     "execution_count": 8,
     "metadata": {},
     "output_type": "execute_result"
    }
   ],
   "source": [
    "model = LinearRegression()\n",
    "model.fit(X_train, y_train)"
   ]
  },
  {
   "cell_type": "code",
   "execution_count": 9,
   "id": "b2d0b655-a226-48b0-9306-0b24b992b14a",
   "metadata": {},
   "outputs": [],
   "source": [
    "y_pred = model.predict(X_test)\n",
    "mse = mean_squared_error(y_test, y_pred)\n",
    "r2 = r2_score(y_test, y_pred)\n"
   ]
  },
  {
   "cell_type": "code",
   "execution_count": 10,
   "id": "6b17f6ec-3be1-4ac6-94e2-335ad149cda7",
   "metadata": {},
   "outputs": [
    {
     "name": "stdout",
     "output_type": "stream",
     "text": [
      "Model Evaluation:\n",
      "Mean Squared Error: 257589.05769408215\n",
      "R-squared Score: 0.7180084563489013\n"
     ]
    }
   ],
   "source": [
    "print(\"Model Evaluation:\")\n",
    "print(\"Mean Squared Error:\", mse)\n",
    "print(\"R-squared Score:\", r2)"
   ]
  },
  {
   "cell_type": "code",
   "execution_count": 11,
   "id": "ba549c16-4462-4578-96e3-9ea939562fa3",
   "metadata": {},
   "outputs": [
    {
     "data": {
      "text/plain": [
       "['scaler.pkl']"
      ]
     },
     "execution_count": 11,
     "metadata": {},
     "output_type": "execute_result"
    }
   ],
   "source": [
    "joblib.dump(model, 'solar_power_model.pkl')\n",
    "joblib.dump(scaler, 'scaler.pkl')"
   ]
  },
  {
   "cell_type": "code",
   "execution_count": 13,
   "id": "a8117856-1c33-46b6-b9fa-ae4a2de74a49",
   "metadata": {},
   "outputs": [
    {
     "name": "stdout",
     "output_type": "stream",
     "text": [
      "\n",
      "Enter the following feature values:\n"
     ]
    },
    {
     "name": "stdin",
     "output_type": "stream",
     "text": [
      "temperature_2_m_above_gnd:  45\n",
      "relative_humidity_2_m_above_gnd:  34\n",
      "mean_sea_level_pressure_MSL:  776\n",
      "total_precipitation_sfc:  22\n",
      "snowfall_amount_sfc:  12\n",
      "total_cloud_cover_sfc:  60\n",
      "high_cloud_cover_high_cld_lay:  0\n",
      "medium_cloud_cover_mid_cld_lay:  78\n",
      "low_cloud_cover_low_cld_lay:  6\n",
      "shortwave_radiation_backwards_sfc:  56\n",
      "wind_speed_10_m_above_gnd:  2\n",
      "wind_direction_10_m_above_gnd:  4\n",
      "wind_speed_80_m_above_gnd:  5\n",
      "wind_direction_80_m_above_gnd:  9-0\n"
     ]
    },
    {
     "name": "stdout",
     "output_type": "stream",
     "text": [
      "Invalid input. Please enter a numeric value.\n"
     ]
    },
    {
     "name": "stdin",
     "output_type": "stream",
     "text": [
      "wind_direction_80_m_above_gnd:  9-8\n"
     ]
    },
    {
     "name": "stdout",
     "output_type": "stream",
     "text": [
      "Invalid input. Please enter a numeric value.\n"
     ]
    },
    {
     "name": "stdin",
     "output_type": "stream",
     "text": [
      "wind_direction_80_m_above_gnd:  w\n"
     ]
    },
    {
     "name": "stdout",
     "output_type": "stream",
     "text": [
      "Invalid input. Please enter a numeric value.\n"
     ]
    },
    {
     "name": "stdin",
     "output_type": "stream",
     "text": [
      "wind_direction_80_m_above_gnd:  3.3\n",
      "wind_speed_900_mb:  4\n",
      "wind_direction_900_mb:  54\n",
      "wind_gust_10_m_above_gnd:  32\n",
      "angle_of_incidence:  112\n",
      "zenith:  12\n",
      "azimuth:  12\n"
     ]
    },
    {
     "name": "stdout",
     "output_type": "stream",
     "text": [
      "\n",
      "Predicted Solar Power Output: 3904.24 kW\n"
     ]
    },
    {
     "name": "stderr",
     "output_type": "stream",
     "text": [
      "C:\\Users\\Shreya Bhelekar\\anaconda3\\Lib\\site-packages\\sklearn\\base.py:439: UserWarning: X does not have valid feature names, but StandardScaler was fitted with feature names\n",
      "  warnings.warn(\n"
     ]
    }
   ],
   "source": [
    "def predict_solar_power():\n",
    "    print(\"\\nEnter the following feature values:\")\n",
    "    features = []\n",
    "    for col in X.columns:\n",
    "        while True:\n",
    "            try:\n",
    "                value = float(input(f\"{col}: \"))\n",
    "                features.append(value)\n",
    "                break\n",
    "            except ValueError:\n",
    "                print(\"Invalid input. Please enter a numeric value.\")\n",
    "                 # Scale input values and predict solar power\n",
    "    input_features = np.array(features).reshape(1, -1)\n",
    "    input_scaled = scaler.transform(input_features)\n",
    "    prediction = model.predict(input_scaled)[0]\n",
    "    print(f\"\\nPredicted Solar Power Output: {prediction:.2f} kW\")\n",
    "\n",
    "# Call the prediction function\n",
    "predict_solar_power()"
   ]
  },
  {
   "cell_type": "code",
   "execution_count": null,
   "id": "513a55b3-a1ff-4799-8903-6e57c2205a3e",
   "metadata": {},
   "outputs": [],
   "source": []
  }
 ],
 "metadata": {
  "kernelspec": {
   "display_name": "Python 3 (ipykernel)",
   "language": "python",
   "name": "python3"
  },
  "language_info": {
   "codemirror_mode": {
    "name": "ipython",
    "version": 3
   },
   "file_extension": ".py",
   "mimetype": "text/x-python",
   "name": "python",
   "nbconvert_exporter": "python",
   "pygments_lexer": "ipython3",
   "version": "3.11.7"
  }
 },
 "nbformat": 4,
 "nbformat_minor": 5
}
